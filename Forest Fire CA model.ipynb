{
 "cells": [
  {
   "cell_type": "markdown",
   "metadata": {},
   "source": [
    "# Tutorial: The spread of Forest Fires\n",
    "\n",
    "This two-part tutorial illustrates different ways to model the spread of a fire among a certain forest. The parts, in brief, are as follows:\n",
    "\n",
    "* **[Part 0](./part0--ca.ipynb)** (this part): We'll show how the spread of fire can be modeled over a geometric region using cellular automata (CA).\n",
    "* **[Part 1](./part1--markov.ipynb)**: This part explains how to use and implement a Markov chain model for forest fire spread.\n",
    "\n"
   ]
  },
  {
   "cell_type": "markdown",
   "metadata": {},
   "source": [
    "# Part 0: A cellular automata model\n",
    "\n",
    "In the first part of this tutorial, we'll apply the concept of cellular automata to the modeling of fire spread."
   ]
  },
  {
   "cell_type": "markdown",
   "metadata": {},
   "source": [
    "## The phenomenon to be modeled and simulated\n",
    "\n",
    "Suppose we wish to model the spread of fire in forest with geographically randomly distributed trees. Assume there is a square-shaped geographical area, represented as a CA space, in which trees (1) are distributed with some given probability, p. That is, p = 0 means there are no trees in the space, whereas p = 1 means trees are everywhere with no open space left in the area. Then, you set fire (2) to one of the trees in this forest to see if the fire you tarted eventually destroys the entire forest (don’t do this in real life!!). A tree will catch fire if there is at least one tree burning in its neighborhood, and the burning tree will be charred (3) completely after one time step."
   ]
  },
  {
   "cell_type": "markdown",
   "metadata": {},
   "source": [
    "## Conceptual model\n",
    "\n",
    "As a first cut, let's try using a cellular automaton (CA) as the conceptual model. We will refer to the specific model we develop as the SIR-CA model, as noted above."
   ]
  },
  {
   "cell_type": "markdown",
   "metadata": {},
   "source": [
    "Note that this model doesn’t have cyclic local dynamics; possible state transitions are always one way from a tree (1) to a burning tree (2) to being charred (3), which is different rom the previous two examples. So the whole system eventually falls into a static final onfiguration with no further changes possible. But the total area burned in the final onfiguration greatly depends on the density of trees p. If you start with a sufficiently arge value of p, you will see that a significant portion of the forest will be burned down ventually. This phenomenon is called percolation in statistical physics, which intuitively eans that something found a way to go through a large portion of material from one side to the other.",
    "\n",
    "Let's associate these states with the following integers:"
   ]
  },
  {
   "cell_type": "code",
   "execution_count": 1,
   "metadata": {},
   "outputs": [],
   "source": [
    "# Possible states:\n",
    "EMPTY_SITE = 0\n",
    "ALIVE_TREE = 1\n",
    "BURNING_TREE = 2\n",
    "CHAR = 3"
   ]
  }
 }
